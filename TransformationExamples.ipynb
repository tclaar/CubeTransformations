{
 "cells": [
  {
   "cell_type": "markdown",
   "id": "6aa4a76d",
   "metadata": {},
   "source": [
    "# Using Linear Transformations on 3D Objects: Code Examples\n",
    "\n",
    "This Jupyter notebook contains all of the code examples from the paper. Each one can be run either locally after downloading the file or by using the Binder link listed in the GitHub README file. In order for the demonstration to work properly, each piece of code must be run in order.\n",
    "\n",
    "First, we import the necessary packages."
   ]
  },
  {
   "cell_type": "code",
   "execution_count": null,
   "id": "87b77ffc",
   "metadata": {},
   "outputs": [],
   "source": [
    "# import statements\n",
    "import demotools as demo\n",
    "import math\n",
    "import numpy as np"
   ]
  },
  {
   "cell_type": "markdown",
   "id": "c8c1b32f",
   "metadata": {},
   "source": [
    "As mentioned in the paper, all demonstrations will start with a 5 by 5 cube defined by the below matrix."
   ]
  },
  {
   "cell_type": "code",
   "execution_count": null,
   "id": "166dadb4",
   "metadata": {},
   "outputs": [],
   "source": [
    "cube = np.array([[-5, -5, -5, -5, 5, 5, 5, 5],\n",
    "                 [-5, -5, 5, 5, -5, -5, 5, 5],\n",
    "                 [-5, 5, -5, 5, -5, 5, -5, 5]])"
   ]
  },
  {
   "cell_type": "markdown",
   "id": "43270cd4",
   "metadata": {},
   "source": [
    "These notebook examples will use the function `demotools.display_objects` to display the 3D representation of each matrix. The `demotools` package makes use of the `matplotlib` library to plot matrices in 3D space and is employed here in order to reduce code clutter and allow us to focus on the matrix algebra operations taking place. If you are interested in the implementation details, take a look at the `demotools` package found in the GitHub repository. \n",
    "\n",
    "We demonstrate by displaying our default cube:"
   ]
  },
  {
   "cell_type": "code",
   "execution_count": null,
   "id": "67aa9231",
   "metadata": {},
   "outputs": [],
   "source": [
    "demo.display_objects(cube)"
   ]
  },
  {
   "cell_type": "markdown",
   "id": "540746b8",
   "metadata": {},
   "source": [
    "## Section 3: Scaling\n",
    "\n",
    "In the following code, we perform a simple uniform dilation by\n",
    "a factor of 2."
   ]
  },
  {
   "cell_type": "code",
   "execution_count": null,
   "id": "674a14c0",
   "metadata": {},
   "outputs": [],
   "source": [
    "S = np.array([[2, 0, 0],\n",
    "              [0, 2, 0],\n",
    "              [0, 0, 2]])\n",
    "cube2x = np.matmul(S, cube)\n",
    "\n",
    "demo.display_objects(cube2x)"
   ]
  },
  {
   "cell_type": "markdown",
   "id": "abb31200",
   "metadata": {},
   "source": [
    "Next, this code scales the cube non-uniformly by a factor of 0.5 on the x-axis and 3 on the z-axis. The y-axis is unchanged."
   ]
  },
  {
   "cell_type": "code",
   "execution_count": null,
   "id": "21bdbad3",
   "metadata": {},
   "outputs": [],
   "source": [
    "S = np.array([[0.5, 0, 0],\n",
    "              [0, 1, 0],\n",
    "              [0, 0, 3]])\n",
    "cube_stretched = np.matmul(S, cube)\n",
    "\n",
    "demo.display_objects(cube_stretched)"
   ]
  },
  {
   "cell_type": "markdown",
   "id": "c28cdb31",
   "metadata": {},
   "source": [
    "Lastly, we demonstrate the effects of a negative scale factor using a new `offset_cube` translated 15 units along the x-axis and a scale matrix with a uniform scale factor of -0.5."
   ]
  },
  {
   "cell_type": "code",
   "execution_count": null,
   "id": "e555c559",
   "metadata": {},
   "outputs": [],
   "source": [
    "offset_cube = np.array([[10, 10, 10, 10, 20, 20, 20, 20],\n",
    "                        [-5, -5,  5,  5, -5, -5,  5,  5],\n",
    "                        [-5,  5, -5,  5, -5,  5, -5,  5]])\n",
    "\n",
    "S = np.array([[-0.5, 0, 0],\n",
    "              [0, -0.5, 0],\n",
    "              [0, 0, -0.5]])\n",
    "cube_reflected = np.matmul(S, offset_cube)\n",
    "\n",
    "demo.display_objects(cube_reflected, offset_cube)"
   ]
  },
  {
   "cell_type": "markdown",
   "id": "709dec38",
   "metadata": {},
   "source": [
    "As can be seen above, scaling using matrix multiplication is rather simple and intuitive. This is not so much the case with rotation, which is next."
   ]
  },
  {
   "cell_type": "markdown",
   "id": "01c01cac",
   "metadata": {},
   "source": [
    "## Section 4: Rotation\n",
    "For convenience, we use the following function to define our rotation matrices."
   ]
  },
  {
   "cell_type": "code",
   "execution_count": null,
   "id": "fa852544",
   "metadata": {},
   "outputs": [],
   "source": [
    "# takes a vector c = [cx, cy, cz]^T and returns the rotation array.\n",
    "def get_rotation_matrix(cx, cy, cz, theta):\n",
    "    rc11 = math.cos(theta) + math.pow(cx, 2) * (1 - math.cos(theta))\n",
    "    rc12 = cx * cy * (1 - math.cos(theta)) - cz * math.sin(theta)\n",
    "    rc13 = cx * cz * (1 - math.cos(theta)) + cy * math.sin(theta)\n",
    "\n",
    "    rc21 = cy * cx * (1 - math.cos(theta)) + cz * math.sin(theta)\n",
    "    rc22 = math.cos(theta) + math.pow(cy, 2) * (1 - math.cos(theta))\n",
    "    rc23 = cy * cz * (1 - math.cos(theta)) - cx * math.sin(theta)\n",
    "    \n",
    "    rc31 = cz * cx * (1 - math.cos(theta)) - cy * math.sin(theta)\n",
    "    rc32 = cz * cy * (1 - math.cos(theta)) + cx * math.sin(theta)\n",
    "    rc33 = math.cos(theta) + math.pow(cz, 2) * (1 - math.cos(theta))\n",
    "\n",
    "    return np.array([[rc11, rc12, rc13],\n",
    "                     [rc21, rc22, rc23],\n",
    "                     [rc31, rc32, rc33]])"
   ]
  },
  {
   "cell_type": "markdown",
   "id": "39359b28",
   "metadata": {},
   "source": [
    "This function takes a cx, cy, cz to define an axis of rotation and an angle theta and returns a rotation matrix.\n",
    "\n",
    "We start by rotating our standard cube 45 degrees around axis defined by the vector (1, 1, 1)."
   ]
  },
  {
   "cell_type": "code",
   "execution_count": null,
   "id": "1780bd81",
   "metadata": {},
   "outputs": [],
   "source": [
    "theta = math.pi / 4\n",
    "\n",
    "R = get_rotation_matrix(1, 1, 1, theta)\n",
    "cube_rotated = np.matmul(R, cube)\n",
    "\n",
    "demo.display_objects(cube_rotated)"
   ]
  },
  {
   "cell_type": "markdown",
   "id": "215cba17",
   "metadata": {},
   "source": [
    "We can see immediately that the cube has, in fact, been rotated. However, there is a problem; it has also been stretched. The details of why this occurred (and how to fix it) are discussed in the paper. \n",
    "\n",
    "In reading the paper we find that the solution simply involves obtaining the unit vector corresponding to our axis of rotation. This is done below, giving us the result we are looking for."
   ]
  },
  {
   "cell_type": "code",
   "execution_count": null,
   "id": "022f26b5",
   "metadata": {},
   "outputs": [],
   "source": [
    "cx = cy = cz = 1 / math.sqrt(3)\n",
    "\n",
    "R = get_rotation_matrix(cx, cy, cz, theta)\n",
    "cube_rotated_properly = np.matmul(R, cube)\n",
    "\n",
    "demo.display_objects(cube_rotated_properly)"
   ]
  },
  {
   "cell_type": "markdown",
   "id": "ec73318c",
   "metadata": {},
   "source": [
    "An orbiting effect can be achieved by rotation an object offset from the origin about a standard axis. \n",
    "\n",
    "The code below does this using the z-axis and a new `orbit_cube` shifted 15 units along the x-axis."
   ]
  },
  {
   "cell_type": "code",
   "execution_count": null,
   "id": "738ed073",
   "metadata": {},
   "outputs": [],
   "source": [
    "orbit_cube = np.array([[10, 10, 10, 10, 20, 20, 20, 20],\n",
    "                      [-5, -5,  5,  5, -5, -5,  5,  5],\n",
    "                      [-5,  5, -5,  5, -5,  5, -5,  5]])\n",
    "theta = math.pi / 3\n",
    "\n",
    "R = get_rotation_matrix(0, 0, 1, theta)\n",
    "\n",
    "cubes = [orbit_cube]\n",
    "for i in range(1, 6):\n",
    "    cubes.append(np.matmul(R, cubes[i - 1]))\n",
    "                 \n",
    "demo.display_objects(cubes[0], cubes[1], cubes[2], cubes[3], cubes[4], cubes[5])"
   ]
  },
  {
   "cell_type": "markdown",
   "id": "edfe8e76",
   "metadata": {},
   "source": [
    "## Section 5: Shear\n",
    "The below code performs a shear on the default cube, shifting the top face by a shear factor of 1 along the y-axis."
   ]
  },
  {
   "cell_type": "code",
   "execution_count": null,
   "id": "90b8c32d",
   "metadata": {},
   "outputs": [],
   "source": [
    "S = np.array([[1, 0, 0],\n",
    "              [0, 1, 1],\n",
    "              [0, 0, 1]])\n",
    "cube_sheared = np.matmul(S, cube)\n",
    "\n",
    "demo.display_objects(cube_sheared)"
   ]
  }
 ],
 "metadata": {
  "kernelspec": {
   "display_name": "Python 3 (ipykernel)",
   "language": "python",
   "name": "python3"
  },
  "language_info": {
   "codemirror_mode": {
    "name": "ipython",
    "version": 3
   },
   "file_extension": ".py",
   "mimetype": "text/x-python",
   "name": "python",
   "nbconvert_exporter": "python",
   "pygments_lexer": "ipython3",
   "version": "3.10.2"
  }
 },
 "nbformat": 4,
 "nbformat_minor": 5
}
